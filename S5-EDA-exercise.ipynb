{
 "cells": [
  {
   "cell_type": "markdown",
   "id": "7c2b4155-2708-4587-8fc2-51079ba7e387",
   "metadata": {},
   "source": [
    "# Démo d’analyse exploratoire de base"
   ]
  },
  {
   "cell_type": "markdown",
   "id": "f1b3067f-5805-446c-ad8c-1c914276e003",
   "metadata": {},
   "source": [
    "Importez les bibliothèque utilent à l’exploration de données, dont la bibliothèque de dataviz de votre choix :"
   ]
  },
  {
   "cell_type": "code",
   "execution_count": 1,
   "id": "ac29f9be-b23c-4242-9382-7c0188670cab",
   "metadata": {},
   "outputs": [],
   "source": [
    "# votre code ici\n"
   ]
  },
  {
   "cell_type": "markdown",
   "id": "d19a55a0-c4c4-4441-a8a8-e6139068804e",
   "metadata": {},
   "source": [
    "Tout d’abord, chargeons les données (créées par  Josh Murrey, [téléchargeables ici](https://www.kaggle.com/datasets/thedevastator/books-sales-and-ratings)) :"
   ]
  },
  {
   "cell_type": "code",
   "execution_count": 3,
   "id": "c7076687-9505-41df-887e-ecb9a2de4052",
   "metadata": {
    "scrolled": true
   },
   "outputs": [
    {
     "data": {
      "text/html": [
       "<div>\n",
       "<style scoped>\n",
       "    .dataframe tbody tr th:only-of-type {\n",
       "        vertical-align: middle;\n",
       "    }\n",
       "\n",
       "    .dataframe tbody tr th {\n",
       "        vertical-align: top;\n",
       "    }\n",
       "\n",
       "    .dataframe thead th {\n",
       "        text-align: right;\n",
       "    }\n",
       "</style>\n",
       "<table border=\"1\" class=\"dataframe\">\n",
       "  <thead>\n",
       "    <tr style=\"text-align: right;\">\n",
       "      <th></th>\n",
       "      <th>index</th>\n",
       "      <th>Publishing Year</th>\n",
       "      <th>Book Name</th>\n",
       "      <th>Author</th>\n",
       "      <th>language_code</th>\n",
       "      <th>Author_Rating</th>\n",
       "      <th>Book_average_rating</th>\n",
       "      <th>Book_ratings_count</th>\n",
       "      <th>genre</th>\n",
       "      <th>gross sales</th>\n",
       "      <th>publisher revenue</th>\n",
       "      <th>sale price</th>\n",
       "      <th>sales rank</th>\n",
       "      <th>Publisher</th>\n",
       "      <th>units sold</th>\n",
       "    </tr>\n",
       "  </thead>\n",
       "  <tbody>\n",
       "    <tr>\n",
       "      <th>0</th>\n",
       "      <td>0</td>\n",
       "      <td>1975.0</td>\n",
       "      <td>Beowulf</td>\n",
       "      <td>Unknown, Seamus Heaney</td>\n",
       "      <td>en-US</td>\n",
       "      <td>Novice</td>\n",
       "      <td>3.42</td>\n",
       "      <td>155903</td>\n",
       "      <td>genre fiction</td>\n",
       "      <td>34160.0</td>\n",
       "      <td>20496.0</td>\n",
       "      <td>4.88</td>\n",
       "      <td>1</td>\n",
       "      <td>HarperCollins Publishers</td>\n",
       "      <td>7000</td>\n",
       "    </tr>\n",
       "    <tr>\n",
       "      <th>1</th>\n",
       "      <td>1</td>\n",
       "      <td>1987.0</td>\n",
       "      <td>Batman: Year One</td>\n",
       "      <td>Frank Miller, David Mazzucchelli, Richmond Lew...</td>\n",
       "      <td>eng</td>\n",
       "      <td>Intermediate</td>\n",
       "      <td>4.23</td>\n",
       "      <td>145267</td>\n",
       "      <td>genre fiction</td>\n",
       "      <td>12437.5</td>\n",
       "      <td>7462.5</td>\n",
       "      <td>1.99</td>\n",
       "      <td>2</td>\n",
       "      <td>HarperCollins Publishers</td>\n",
       "      <td>6250</td>\n",
       "    </tr>\n",
       "    <tr>\n",
       "      <th>2</th>\n",
       "      <td>2</td>\n",
       "      <td>2015.0</td>\n",
       "      <td>Go Set a Watchman</td>\n",
       "      <td>Harper Lee</td>\n",
       "      <td>eng</td>\n",
       "      <td>Novice</td>\n",
       "      <td>3.31</td>\n",
       "      <td>138669</td>\n",
       "      <td>genre fiction</td>\n",
       "      <td>47795.0</td>\n",
       "      <td>28677.0</td>\n",
       "      <td>8.69</td>\n",
       "      <td>3</td>\n",
       "      <td>Amazon Digital Services,  Inc.</td>\n",
       "      <td>5500</td>\n",
       "    </tr>\n",
       "    <tr>\n",
       "      <th>3</th>\n",
       "      <td>3</td>\n",
       "      <td>2008.0</td>\n",
       "      <td>When You Are Engulfed in Flames</td>\n",
       "      <td>David Sedaris</td>\n",
       "      <td>en-US</td>\n",
       "      <td>Intermediate</td>\n",
       "      <td>4.04</td>\n",
       "      <td>150898</td>\n",
       "      <td>fiction</td>\n",
       "      <td>41250.0</td>\n",
       "      <td>24750.0</td>\n",
       "      <td>7.50</td>\n",
       "      <td>3</td>\n",
       "      <td>Hachette Book Group</td>\n",
       "      <td>5500</td>\n",
       "    </tr>\n",
       "    <tr>\n",
       "      <th>4</th>\n",
       "      <td>4</td>\n",
       "      <td>2011.0</td>\n",
       "      <td>Daughter of Smoke &amp; Bone</td>\n",
       "      <td>Laini Taylor</td>\n",
       "      <td>eng</td>\n",
       "      <td>Intermediate</td>\n",
       "      <td>4.04</td>\n",
       "      <td>198283</td>\n",
       "      <td>genre fiction</td>\n",
       "      <td>37952.5</td>\n",
       "      <td>22771.5</td>\n",
       "      <td>7.99</td>\n",
       "      <td>4</td>\n",
       "      <td>Penguin Group (USA) LLC</td>\n",
       "      <td>4750</td>\n",
       "    </tr>\n",
       "  </tbody>\n",
       "</table>\n",
       "</div>"
      ],
      "text/plain": [
       "   index  Publishing Year                        Book Name  \\\n",
       "0      0           1975.0                          Beowulf   \n",
       "1      1           1987.0                 Batman: Year One   \n",
       "2      2           2015.0                Go Set a Watchman   \n",
       "3      3           2008.0  When You Are Engulfed in Flames   \n",
       "4      4           2011.0         Daughter of Smoke & Bone   \n",
       "\n",
       "                                              Author language_code  \\\n",
       "0                             Unknown, Seamus Heaney         en-US   \n",
       "1  Frank Miller, David Mazzucchelli, Richmond Lew...           eng   \n",
       "2                                         Harper Lee           eng   \n",
       "3                                      David Sedaris         en-US   \n",
       "4                                       Laini Taylor           eng   \n",
       "\n",
       "  Author_Rating  Book_average_rating  Book_ratings_count          genre  \\\n",
       "0        Novice                 3.42              155903  genre fiction   \n",
       "1  Intermediate                 4.23              145267  genre fiction   \n",
       "2        Novice                 3.31              138669  genre fiction   \n",
       "3  Intermediate                 4.04              150898        fiction   \n",
       "4  Intermediate                 4.04              198283  genre fiction   \n",
       "\n",
       "   gross sales  publisher revenue  sale price  sales rank  \\\n",
       "0      34160.0            20496.0        4.88           1   \n",
       "1      12437.5             7462.5        1.99           2   \n",
       "2      47795.0            28677.0        8.69           3   \n",
       "3      41250.0            24750.0        7.50           3   \n",
       "4      37952.5            22771.5        7.99           4   \n",
       "\n",
       "                       Publisher   units sold  \n",
       "0        HarperCollins Publishers        7000  \n",
       "1        HarperCollins Publishers        6250  \n",
       "2  Amazon Digital Services,  Inc.        5500  \n",
       "3             Hachette Book Group        5500  \n",
       "4         Penguin Group (USA) LLC        4750  "
      ]
     },
     "execution_count": 3,
     "metadata": {},
     "output_type": "execute_result"
    }
   ],
   "source": [
    "df = pd.read_csv('data/Books_Data_Clean.csv')\n",
    "df.head()"
   ]
  },
  {
   "cell_type": "markdown",
   "id": "882dce12-f64f-4877-8240-a46542e64ce5",
   "metadata": {},
   "source": [
    "Faire une analyse exploratoire des données, c’est avant tout comprendre les données. Le mieux pour cela est de répondre à des questions :\n",
    "- quelles sont les données ? Que représentent-elles ? Comment ont-elles été obtenues ?\n",
    "- quel est leur type ?\n",
    "- y a-t-il des données manquantes ? aberrantes ?\n",
    "\n",
    "Cela permet déjà d’évaluer la qualité des données, de les mettre en forme, de mettre en œuvre des procédure de « nettoyage » (*cleansing*).\n",
    "Pour cela, il peut être intéresssant de disposer d’informations supplémentaires :\n",
    "- comment se distribuent-elles ?\n",
    "- peut-on observer des patterns notables ?\n",
    "- peut-on quantifier les outliers ?\n",
    "\n",
    "On pourra ensuite, une fois que l’on connait mieux les données et qu’on a amélioré notre confiance dans les données (après un premier nettoyage) et notre compréhension de celles-ci, poser des questions plus précises quand aux relations entre elles (« explications » ou « effets » du point de vue statistique).\n",
    "\n",
    "Bien sûr, toutes ces étapes et questions sont interconnectées. Une EDA peut vite devenir « labyrinthique » avec de nombreuses pistes à explorer en paralleles, etc. D’où l’intérêt des notebooks et de les rédiger correctement (clarté, mise en forme, organisation). C’est un processus itératif.\n",
    "\n",
    "Ne pas oublier qu’a l’origine un client, un service de notre entreprise, un collègue, pose une question. Ici ce pourrait-être : « qu’est-ce qui permet de prédire le nombre de vente d’un livre », ou « quels sont les livres qui générent les plus hauts chiffres d’affaire » ou encore « quels sont les caractéristiques qui font qu’un livre reçoit de bonnes évaluations ? ». C’est alors notre connaissance du métier, notre expérience, notre intuition qui vont nous guider pour . Être data scientist ne se résume pas à connaître des bibliothèques comme Pandas ou Seaborn, dans ce cas un outil comme ydata-profiling ferait un très bon data analyst !\n",
    "\n",
    "Commençons donc par le début : voyons quelles sont les colonnes, leurs types et s‘il y a des valeurs nulles avec la méthode que vous devez désormais bien connaître…"
   ]
  },
  {
   "cell_type": "code",
   "execution_count": 2,
   "id": "ccd8cc18-f3a3-4819-b000-72109e65e4e0",
   "metadata": {},
   "outputs": [],
   "source": [
    "# votre code ici\n"
   ]
  },
  {
   "cell_type": "markdown",
   "id": "5bf6bb65-1791-4ae8-9dce-1181d8cba980",
   "metadata": {},
   "source": [
    "Dans un premier temps, essayons de comprendre quelle grandeur ou observable chaque colonne représente. Prenons le temps de lire les labels, de voir à quoi il se rapporte et de repérer les ordres de grandeurs des valeurs numériques et le type des catégories dans les premières lignes du dataframe.\n",
    "\n",
    "Les années de publication sont codées par des `float64` ce qui est étrange, convertir en `int` ? \n",
    "Autre chose, il y a une colonne index qui est totalement inutile (doublon avec l’index du dataframe) et les noms des colonnes ne sont pas formatés de manière homogène (parfois avec des espaces, des majuscules, des soulignés…). Pour faciliter la manipulation des colonnes, homogénéisons tout ça : remplaçons les espaces par des soulignés et supprimons les majuscules. (Dans la doc, cherchez la méthode `.rename()`)"
   ]
  },
  {
   "cell_type": "code",
   "execution_count": 3,
   "id": "ac57f160-c4a6-43ed-904d-0030c8edde93",
   "metadata": {},
   "outputs": [],
   "source": [
    "# votre code ici\n"
   ]
  },
  {
   "cell_type": "markdown",
   "id": "e646001f-c70f-41c9-91c0-99396052be88",
   "metadata": {},
   "source": [
    "Que constate-t-on pour une colonne en particulier ?"
   ]
  },
  {
   "cell_type": "markdown",
   "id": "421a1a91-b1b0-4b76-9f92-0aba1a3ae186",
   "metadata": {},
   "source": [
    "« votre réponse ici (éditer la cellule) »"
   ]
  },
  {
   "cell_type": "markdown",
   "id": "3d7563bf-2e4b-40a3-954d-24a498af31c8",
   "metadata": {},
   "source": [
    "Corrigez cela : "
   ]
  },
  {
   "cell_type": "code",
   "execution_count": 6,
   "id": "a2fd2d9b-3595-41a9-9cef-b192a0634063",
   "metadata": {},
   "outputs": [],
   "source": [
    "# votre code ici\n"
   ]
  },
  {
   "cell_type": "markdown",
   "id": "f62d16e4-5111-4d56-9f13-431fd44bcbe1",
   "metadata": {},
   "source": [
    "Supprimons la colonne index :"
   ]
  },
  {
   "cell_type": "code",
   "execution_count": 4,
   "id": "b3c158b2-f265-47de-a711-d1264ff3580d",
   "metadata": {},
   "outputs": [],
   "source": [
    "# votre code ici\n"
   ]
  },
  {
   "cell_type": "markdown",
   "id": "70bf0ba9-5ea1-4c65-9e97-bf872d43d829",
   "metadata": {},
   "source": [
    "Y a-t-il des doublons ? (dans la doc, cherchez les mots clefs `duplicate` ou `duplicated`)"
   ]
  },
  {
   "cell_type": "code",
   "execution_count": 5,
   "id": "6a46c530-10ed-496d-bfee-a6bacdaf05d5",
   "metadata": {},
   "outputs": [],
   "source": [
    "# votre code ici\n"
   ]
  },
  {
   "cell_type": "markdown",
   "id": "d64395e4-1e41-46f3-9948-b6a368dfb439",
   "metadata": {},
   "source": [
    "on peut également vérifier en générant un dataframe où les doublons auraient été supprimés et vérifier s’il comporte le même nombre de lignes"
   ]
  },
  {
   "cell_type": "code",
   "execution_count": 6,
   "id": "f4267645-26ac-4dbe-ad3b-54f985e29f0d",
   "metadata": {},
   "outputs": [],
   "source": [
    "# votre code ici\n"
   ]
  },
  {
   "cell_type": "markdown",
   "id": "14d4c976-c6a0-4726-965c-4291b1792fe2",
   "metadata": {},
   "source": [
    "On a les même dimensions que dans le dataframe original -> pas de doublon.\n",
    "\n",
    "Et les valeurs manquantes ? (y a-t-il une méthode pour identifier les valeur `na` ?)"
   ]
  },
  {
   "cell_type": "code",
   "execution_count": 7,
   "id": "a6c2c4fb-57c9-4798-965d-ae68dee77db6",
   "metadata": {},
   "outputs": [],
   "source": [
    "# votre code ici\n"
   ]
  },
  {
   "cell_type": "markdown",
   "id": "63f549af-9d97-476f-837c-db4922626c08",
   "metadata": {},
   "source": [
    "Il y a quelques valeurs manquantes. Mais avant de décider comment on les traite (suppression ? remplacement ? par quelle méthode ?), explorons les valeurs de ces variables de plus près."
   ]
  },
  {
   "cell_type": "markdown",
   "id": "fea78d54-60b2-4028-8fd9-88e1f1d02ccb",
   "metadata": {},
   "source": [
    "### Variables quantitatives (numériques)"
   ]
  },
  {
   "cell_type": "markdown",
   "id": "1ee5e042-105a-4d39-b6d6-96d0e91e4d39",
   "metadata": {},
   "source": [
    "Quelle méthode permet d’explorer rapidement les valeurs numériques (ce n’est pas `.info()`, mais l’autre !)"
   ]
  },
  {
   "cell_type": "code",
   "execution_count": 8,
   "id": "368252d6-606d-4a06-abd5-0535d6b61972",
   "metadata": {},
   "outputs": [],
   "source": [
    "# votre code ici\n"
   ]
  },
  {
   "cell_type": "markdown",
   "id": "61f1d30d-6e7b-4eee-9ad6-37b99a09d80a",
   "metadata": {},
   "source": [
    "Cette méthode nous donne une première idée de la distribution des variables numériques, et de leur ordre de grandeur. Regardons attentivement chaque colonne. Pour « comprendre » la répartitions des valeurs dans les différentes colonnes déjà, mais aussi pour repérer ce que l’on percevrait comme des anomalies. Par exemple on constate que l’évaluation (rating) moyenne des livres est assez élevée, autour de 4 sur une échelle de 5 visiblement. Que les nombres de vote pour l’évaluation des livres sont important (de l’ordre de plusieurs dizaines de milliers, jusqu’à plus de 200 000, et jamais moins de 27 000, avec une valeur moyenne un peu en dessous de 100 000). On remarque aussi que la dispersion dans le nombre de livres vendus est énorme (plus de 15 000 pour une moyenne de près de 10 000, et une médiane très décalée par rapport à la moyenne). Etc. \n",
    "\n",
    "La valeur minimum pour l’année de publication est négative ! Est-ce que cela vous semble normal, ou aberrant ?"
   ]
  },
  {
   "cell_type": "markdown",
   "id": "65dac458-0b80-4601-a568-aa4af3828786",
   "metadata": {},
   "source": [
    "\n",
    "« votre réponse ici » (éditez la cellule)\n"
   ]
  },
  {
   "cell_type": "markdown",
   "id": "8850d2b5-bc82-4d02-9aaa-b2009392baa9",
   "metadata": {},
   "source": [
    "Il faudra regarder de plus près la distribution des valeurs. Nous verrons cela plus tard. Déjà observons à quoi ressemble la ligne pour laquelle cette année vaut -560 (pensez au boolean indexing) :"
   ]
  },
  {
   "cell_type": "code",
   "execution_count": 9,
   "id": "3c35ffa4-2a6d-473d-8ee6-a3a746fd69e2",
   "metadata": {},
   "outputs": [],
   "source": [
    "# votre code ici\n"
   ]
  },
  {
   "cell_type": "markdown",
   "id": "50fa5c4c-997a-4ba1-8f51-2534f2eb368f",
   "metadata": {},
   "source": [
    "De quel auteur s’agit-il (n’hésitez pas à googler…) ? Est-ce que la valeur pour l’année de publication s’explique alors ?"
   ]
  },
  {
   "cell_type": "markdown",
   "id": "3d46422e-8423-4ecd-8a42-78c28b242dac",
   "metadata": {},
   "source": [
    "« votre réponse ici (éditez la cellule) »"
   ]
  },
  {
   "cell_type": "markdown",
   "id": "a602f527-68ff-4ca5-8259-ff0a2ede9645",
   "metadata": {},
   "source": [
    "Affichez tous les ouvrages pour lesquels l’année de publication est négative :"
   ]
  },
  {
   "cell_type": "code",
   "execution_count": 10,
   "id": "32628444-e8f9-4c3c-9eb3-1b6f6626e98f",
   "metadata": {},
   "outputs": [],
   "source": [
    "# votre code ici\n"
   ]
  },
  {
   "cell_type": "markdown",
   "id": "2ad29337-4022-4e4f-9205-98d9e9cae39e",
   "metadata": {},
   "source": [
    "On en a quelques uns, essentiellement de l’aire gréco-romaine, mais aussi chinoise (Lao Tzu). On constate par la même occasion qu’on a un problème d’encodage des caractères non-latin, a priori grecs et chinois."
   ]
  },
  {
   "cell_type": "markdown",
   "id": "b514771a-ca5b-4110-af02-3634be3cc054",
   "metadata": {},
   "source": [
    "### Variables qualitatives (catégorielles)\n",
    "\n",
    "Voyons déjà combien y a-t-il de catégories (= valeurs uniques) dans chacune de ces colonnes : "
   ]
  },
  {
   "cell_type": "code",
   "execution_count": 11,
   "id": "eab68f76-68d6-4f37-ab1e-d0f1f7d1087c",
   "metadata": {},
   "outputs": [],
   "source": [
    "# votre code ici\n"
   ]
  },
  {
   "cell_type": "markdown",
   "id": "cd4a7032-badb-424a-bb1a-c502cf288fb9",
   "metadata": {},
   "source": [
    "Ces données concernent 735 auteurs différents.\n",
    "\n",
    "Regardons la distribution des différents catégories pour les 4 dernière colonnes qui désignent « réellement » des catégories, c’est à dire un nombre de catégories différentes assez réduit vu le nombre d’enregistrement (les titres des ouvrages et les auteurs ont nécessairement beaucoup de « catégories » / valeurs uniques - est-ce que ce sont vraiment des catégories ?).\n",
    "\n",
    "Quelles sont les 4 colonnes que vous retenez comme étant réellement des catégories ?"
   ]
  },
  {
   "cell_type": "markdown",
   "id": "8cd0d6dc-20c6-426e-b073-157e644822a1",
   "metadata": {},
   "source": [
    "« votre réponse ici (éditez la cellule) »"
   ]
  },
  {
   "cell_type": "markdown",
   "id": "01b44cb8-49c8-4b58-bfaa-2f4b69bde910",
   "metadata": {},
   "source": [
    "Affichez les distributions de ces catégories (pour chaque colonne retenue, combien de valeurs différentes/uniques ?) "
   ]
  },
  {
   "cell_type": "code",
   "execution_count": 12,
   "id": "7bbcae43-b343-4642-84c2-8038d5b6c6a6",
   "metadata": {},
   "outputs": [],
   "source": [
    "# votre code ici\n"
   ]
  },
  {
   "cell_type": "markdown",
   "id": "0d34e868-236d-4e0b-900e-642325dfcb87",
   "metadata": {},
   "source": [
    "Quels problèmes a-t-on constaté ?\n",
    "\n",
    "Une \n",
    "Données manquantes :\n",
    "* des livres sans titres (23)\n",
    "* des codes de langues (53)\n",
    "* une année de publications \n",
    "\n",
    "Valeurs aberrantes :\n",
    "* au moins une valeur négative pour l’année de publication\n",
    "\n",
    "Doublons :\n",
    "* visiblement pas de doublons\n",
    "\n",
    "Variables catégorielles :\n",
    "* pour beaucoup de variables catégorielles : langue, éditeur, genre et même l’évaluation des auteurs, il y a de forts déséquilibres entre les catégories en matière d’effectifs"
   ]
  },
  {
   "cell_type": "markdown",
   "id": "45615962-fcec-4d13-91bc-628806b2f0d0",
   "metadata": {},
   "source": [
    "Affichez les valeurs nulles pour les années de publication :"
   ]
  },
  {
   "cell_type": "code",
   "execution_count": 13,
   "id": "4e2c0e03-a898-4408-80bc-430e22d6f2ab",
   "metadata": {},
   "outputs": [],
   "source": [
    "# votre code ici\n"
   ]
  },
  {
   "cell_type": "markdown",
   "id": "40dc2739-3c4b-488e-b991-17a7a6e65040",
   "metadata": {},
   "source": [
    "Affichez les valeurs nulles pour les titres :"
   ]
  },
  {
   "cell_type": "code",
   "execution_count": 15,
   "id": "692803be-dd5c-4cbf-828b-16e8c209a5b7",
   "metadata": {},
   "outputs": [],
   "source": [
    "# votre code ici\n"
   ]
  },
  {
   "cell_type": "markdown",
   "id": "0d793375-d998-44b0-b67b-77c52c98d871",
   "metadata": {},
   "source": [
    "Affichez un *aperçu* (il y a beaucoup de valeurs) des ouvrages dont le code de langue n’est pas renseigné :"
   ]
  },
  {
   "cell_type": "code",
   "execution_count": 16,
   "id": "1a957f36-d09a-440f-b2a2-84599d8a4c82",
   "metadata": {},
   "outputs": [],
   "source": [
    "# votre code ici\n"
   ]
  },
  {
   "cell_type": "markdown",
   "id": "2d1a6481-df14-441d-bb32-a6f7d4891142",
   "metadata": {},
   "source": [
    "Les valeurs manquantes ne concernent que des variables catégorielles. \n",
    "On constate que les livres autres que anglais sont très minoritaires. Le `language_code` risque de n’avoir pas beaucoup de poids dans les analyses.\n",
    "Par ailleurs, vu que chaque livre a un titre différent, il est peu probable aussi d’observer un effet du titre sur les autres variables – à moins d’étudier très précisément des régularité dans les titres (format, lexique, structure, longueur…) ce qu’on ne va pas faire ici a priori.\n",
    "Enfin l’année de publication inconnue concerne un seul livre (dont le titre et la langue sont inconnus aussi). L’année par contre peu être une variable importante, mais comme cela ne concerne qu’un livre, cette valeur manquante aura peut d’effet.\n",
    "\n",
    "On peut être tenté de supprimer les lignes avec valeur manquantes, mais si ça n’affectera que peu les effets des variables concernés, on supprimerait par la même occasion d’autres variables qui elles sont complètes et peuvent être pertinentes pour des analyses futures. La situation est légèrement différente pour l’année manquante.\n",
    "\n",
    "D’un autre côté analyser des livres qu’on n’est pas capable d’identifier car on n’en connaît pas le titre est un peu étrange. On peut douter de la fiabilité des informations les concernants.\n",
    "\n",
    "Concernant les livres, vu la majorité de livre en anglais, on peut supposer que les langages non codés sont des livres qui de toute façon auraient été de langue anglaise. Ou alors ils n’ont pas été codés car ils ne correspondaient à aucune langue listée ? Voyons si les patronymes des auteurs peuvent nous aider à décider ? On constate une majorité d’auteur de langue anglaise, sans mention d’un traducteur et le titre en anglais aussi. On peut donc supposer que la première hypothèse est la bonne.\n",
    "\n",
    "Nous pourrions par exemple décider de :\n",
    "\n",
    "- supprimer (drop) les livres dont les titres sont manquants, ce qui supprimera par la même occasion la ligne où l’année est manquante\n",
    "\n",
    "- utiliser une méthode de remplacement implémenter dans pandas qui consiste à remplacer une valeur manquante d’une variable par la valeur de cette variable pour un élément proche (précédent ou suivant dans le dataframe), ce qui revient a dupliquer cette valeur. Cela revient pratiquement a remplir les valeurs manquantes au hasard, avec de bonnes chances de respecter a priori la fréquence d’apparition des valeurs dans l’échantillon, sans trop impacter la moyenne (cf. TCL)."
   ]
  },
  {
   "cell_type": "markdown",
   "id": "282bf965-806c-4b41-a857-727787c4011e",
   "metadata": {},
   "source": [
    "Éliminez les lignes avec valeurs nulles pour les titres (dans la doc cherchez la méthode `.dropna()` :"
   ]
  },
  {
   "cell_type": "code",
   "execution_count": 17,
   "id": "91f6b288-f28b-4a73-a7fe-a14019bb2b7c",
   "metadata": {},
   "outputs": [],
   "source": [
    "# votre code ici\n"
   ]
  },
  {
   "cell_type": "markdown",
   "id": "d1657fbc-a0dc-47d5-977a-8338ef55c623",
   "metadata": {},
   "source": [
    "Pour les enregistrements sans code de langue, trouvez une méthode de substition. Cherchez la méthode `.ffill()` dans la doc."
   ]
  },
  {
   "cell_type": "code",
   "execution_count": 18,
   "id": "395aba79-085c-43c4-923f-f8238a669fc9",
   "metadata": {},
   "outputs": [],
   "source": [
    "# votre code ici\n"
   ]
  },
  {
   "cell_type": "code",
   "execution_count": null,
   "id": "41580f58-8c5b-4b9b-976e-a7e45e324674",
   "metadata": {},
   "outputs": [],
   "source": []
  },
  {
   "cell_type": "markdown",
   "id": "5da3f285-ef0b-4f4a-81ee-de1faa2ad60f",
   "metadata": {},
   "source": [
    "## Distributions\n",
    "\n",
    "Commençons par la première colonne, `publishing_year`, nous étions déjà intrigué par certaines valeurs que nous y trouvions, il peut être éclairant d’en voir plus précisément la distribution, et si celle-ci justifie un premier tri des données. Utilisons Seaborn qui est un bon compromis entre facilité d’utilisation et lisibilité. N’oublions pas le minimum syndical pour une figure : un titre, et des noms pour les axes, etc."
   ]
  },
  {
   "cell_type": "code",
   "execution_count": 19,
   "id": "a6782186-c081-451c-bfba-d1d9917c60ce",
   "metadata": {},
   "outputs": [],
   "source": [
    "# votre code ici\n"
   ]
  },
  {
   "cell_type": "markdown",
   "id": "f18c2cb7-439f-42f1-af31-47c3aec349e4",
   "metadata": {},
   "source": [
    "On constate que la majeure partie des publications a eu lieu à l’approche des années 2000, avec une progression exponentielle. Voyons ce qu’il se passe à partir du XIXe s. (ici encore le boolean indexing est notre ami) : "
   ]
  },
  {
   "cell_type": "code",
   "execution_count": 20,
   "id": "86658828-4e55-4fbb-b350-b263c8a0b043",
   "metadata": {},
   "outputs": [],
   "source": [
    "# votre code ici\n"
   ]
  },
  {
   "cell_type": "markdown",
   "id": "258b89d6-8d94-4c7a-9899-f1bb6c00550a",
   "metadata": {},
   "source": [
    "On constate une augmentation exponentielle du nombre de publications à partir des années 70, après une forte augmentation dès après-guerre.\n",
    "\n",
    "D’autres distributions peuvent attiser notre curiosité :\n",
    "\n",
    "* nombre de livres dans chaque genre (on a déjà produit le tableau) :"
   ]
  },
  {
   "cell_type": "code",
   "execution_count": 21,
   "id": "570497cb-061c-43b2-ade7-a40b54e71421",
   "metadata": {},
   "outputs": [],
   "source": [
    "# votre code ici\n"
   ]
  },
  {
   "cell_type": "markdown",
   "id": "50b05d12-21ee-4353-87c8-70665b7e0df2",
   "metadata": {},
   "source": [
    "* Distribution des notes moyennes des livres, qui est une des variables que l’on pourra chercher à expliquer, ou alors qui servira de variable explicative. Autant voir à quoi elle ressemble :"
   ]
  },
  {
   "cell_type": "code",
   "execution_count": 22,
   "id": "b4d1d28e-7d1c-4bb3-bd21-7f56238b1826",
   "metadata": {},
   "outputs": [],
   "source": [
    "# votre code ici\n"
   ]
  },
  {
   "cell_type": "markdown",
   "id": "4cd0a3e8-140b-45de-b3fa-6bd77064b16e",
   "metadata": {},
   "source": [
    "* Il n’y a pas que les livres qui sont évalués : les auteurs aussi. Il sont classés en quatre catégories, de débutant (*novice*) à célèbre (*famous*). Voyons la distribution dans les 4 catégories d’auteurs (déjà vu numériquement, mais une data viz est plus parlante) :"
   ]
  },
  {
   "cell_type": "code",
   "execution_count": 23,
   "id": "a12db66a-12d2-43b3-a522-ad836e55cb27",
   "metadata": {},
   "outputs": [],
   "source": [
    "# votre code ici\n",
    "# note : tracer la kde n’a pas beaucoup de sens pour les variables catégorielles"
   ]
  },
  {
   "cell_type": "markdown",
   "id": "db500bea-ee8a-4013-918c-8ede51377fd0",
   "metadata": {},
   "source": [
    "Même s’il s’agit de variables catégorielles, il y a ici une notion d’ordre : novice < intermediate < excellent < famous. Les deux catégories centrale rassemblant 92% des évaluation (cf. chiffres plus haut). Il faudrait donc faire la data viz en ordonnant correctement les catégories (cherchez dans la doc l’argument `order=`:"
   ]
  },
  {
   "cell_type": "code",
   "execution_count": 24,
   "id": "74786b9a-ea6a-4f14-8954-473eff54e083",
   "metadata": {},
   "outputs": [],
   "source": [
    "# votre code ici\n"
   ]
  },
  {
   "cell_type": "markdown",
   "id": "062c9304-9cb5-4dee-a0f1-03c3b0c821aa",
   "metadata": {},
   "source": [
    "On peut se demander dans chaque catégorie, quel est le niveau moyen des notes des livres. On s’attend à une certaine corrélation (les livres les mieux notés étant écrits par des auteurs excellents). Pour comparer les notes moyennes dans chaque catégorie on peut faire un `.groupby()` (appelez l’objet ainsi créé `book_author_ratings`). \n",
    "\n",
    "Les méthodes dont vous allez avoir besoin : la méthode qui fourni la grandeur que vous cherchez (`.mean()`, `.count()`… pensez au SQL !), une méthode pour trier.\n",
    "\n",
    "`.groupby()` retourne quel type d’objet ? Si vous voulez un dataframe, il faudra utiliser les méthodes `.reset_index()` et si vous le souhaitez `.set_index()` (cherchez dans la doc, ou expérimentez) :"
   ]
  },
  {
   "cell_type": "code",
   "execution_count": 25,
   "id": "b1050b79-f2ae-470e-9044-a1f50e90f4e2",
   "metadata": {},
   "outputs": [],
   "source": [
    "# votre code ici\n"
   ]
  },
  {
   "cell_type": "markdown",
   "id": "761e20bc-979c-4743-9220-b8ceaa9fc97c",
   "metadata": {},
   "source": [
    "Comparer le type de `book_author_ratings` avec et sans `.reset_index()` :"
   ]
  },
  {
   "cell_type": "code",
   "execution_count": 26,
   "id": "b21834ac-739e-415c-a2b1-3c1b18ba38c7",
   "metadata": {},
   "outputs": [],
   "source": [
    "# votre code ici\n"
   ]
  },
  {
   "cell_type": "markdown",
   "id": "d4db0fda-35c2-45bd-b830-8a227405ba6d",
   "metadata": {},
   "source": [
    "Tracez votre figure (la note moyenne par catégorie d’auteur) :"
   ]
  },
  {
   "cell_type": "code",
   "execution_count": 29,
   "id": "66957d0f-4509-4006-b463-fadb87564647",
   "metadata": {},
   "outputs": [
    {
     "data": {
      "image/png": "[encoded data removed]",
      "text/plain": [
       "<Figure size 640x480 with 1 Axes>"
      ]
     },
     "metadata": {},
     "output_type": "display_data"
    }
   ],
   "source": [
    "# votre code ici\n"
   ]
  },
  {
   "cell_type": "markdown",
   "id": "ebad2798-62e8-493e-84be-42ca09bc1b67",
   "metadata": {},
   "source": [
    "Sans surprise, plus un auteur est bien noté, plus sa production l’est aussi.\n",
    "\n",
    "On peut chercher à étudier quelle est la dispersion dans les différentes catégories. Des boxplots peuvent être utiles pour cela (pour faire joli, pensez encore à l’argument `order=`)."
   ]
  },
  {
   "cell_type": "code",
   "execution_count": 27,
   "id": "2f9e7d14-bfb1-4ebf-a4ba-adb81afcfbd2",
   "metadata": {},
   "outputs": [],
   "source": [
    "# votre code ici\n"
   ]
  },
  {
   "cell_type": "markdown",
   "id": "0ef9d7af-1c03-4db0-94e8-3f3d045373b7",
   "metadata": {},
   "source": [
    "On remarque un phénomène étonnant : le groupe avec la plus grande dispersion est celui des auteurs intermédiaires, ce qui peut s’expliquer par le fait qu’on a énormément d’auteurs dans ce groupe, dont la production peut être sans surprise inégale (ce qui explique leur statut), mais dans le club plus restreint des auteurs célèbres, la dispersion est assez faible (les notes sont très ressérées autour de la médiane) mais cela n’empêche pas la présence d’outliers, et notamment des ouvrages certainement classés comme décevants : être parmi les meilleurs n’interdit pas l’échec, et celui-ci peut être assez cuisant.\n",
    "\n",
    "Il n’y a pas que les auteurs qui produisent des livres, un autre acteur qui y participe : l’éditeur (*publisher*). Reprenons les mêmes analyses avec les éditeurs. Malheureusement, on n’a pas de catégorisation des éditeurs. Regardons déjà combien y a-t-il d’éditeurs différents, combien de livres sont publiés par éditeurs et éventuellements quels sont ces éditeurs :"
   ]
  },
  {
   "cell_type": "code",
   "execution_count": 29,
   "id": "407c029f-bb8a-4f65-a4fd-5fdebe2fadf4",
   "metadata": {},
   "outputs": [],
   "source": [
    "# votre code ici (nombre d’éditeurs différents)\n"
   ]
  },
  {
   "cell_type": "markdown",
   "id": "48037e55-ca69-4288-9754-27ab4370baf8",
   "metadata": {},
   "source": [
    "Le nombre d’éditeur est finalement assez réduit. On peut donc en tirer la liste :"
   ]
  },
  {
   "cell_type": "code",
   "execution_count": 30,
   "id": "e99850c4-f7d1-4829-968f-8a2b04110b59",
   "metadata": {},
   "outputs": [],
   "source": [
    "# votre code ici (liste des éditeurs)\n"
   ]
  },
  {
   "cell_type": "markdown",
   "id": "540b52a0-51b0-4681-9b1f-82fb44acf55a",
   "metadata": {},
   "source": [
    "Nous nous rappelons qu’il y avait de forts déséquilibres entre les effectifs des variables catégorielles :"
   ]
  },
  {
   "cell_type": "code",
   "execution_count": 32,
   "id": "1f82bf76-60bb-4a03-9cf0-48a2a6723ea8",
   "metadata": {},
   "outputs": [],
   "source": [
    "# votre code ici (nombre d’enregistrements / livres pubiés par éditeur)\n"
   ]
  },
  {
   "cell_type": "markdown",
   "id": "56ea811d-16a6-48f3-8de0-e98dc2f27220",
   "metadata": {},
   "source": [
    "On peut réaliser une dataviz pour visualiser cela. Comme les noms des éditeurs sont un peu long, mieux vaut les mettre en légende avec un code couleur. On peut aussi faire en sorte que les éditeurs soient ordonnées par ordre décroissant du nombre d’ouvrages publiés :"
   ]
  },
  {
   "cell_type": "code",
   "execution_count": null,
   "id": "d81d038e-e8b8-4642-97e9-ef40e876e3b5",
   "metadata": {},
   "outputs": [],
   "source": [
    "# simple way : using .value_counts() to get an ordrered Series (and .reset_index() if you want an ordered dataframe)\n",
    "\n",
    " # print(df['publisher'] … your code …)\n",
    "\n",
    "# complex way (for training) : using .groupby()\n",
    "\n",
    "#count_ordered_publishers = df.groupby( … your code …\n",
    "\n",
    "# when categorical labels are long strings, it is better to\n",
    "# put label in a legend box\n",
    "fig, ax = plt.subplots()\n",
    "ax = sns.countplot(data =df, \n",
    "                   x='publisher', \n",
    "                   hue= 'publisher', \n",
    "                   hue_order = count_ordered_publishers, \n",
    "                   order=count_ordered_publishers, \n",
    "                   ax=ax)\n",
    "ax.set_xticklabels('')\n",
    "ax.legend(title='Publisher', \n",
    "          labels=count_ordered_publishers,\n",
    "          loc='upper right', \n",
    "          bbox_to_anchor=(1.65, 1.02));"
   ]
  },
  {
   "cell_type": "markdown",
   "id": "6a51cb03-bc68-4142-9132-d5c20d56638b",
   "metadata": {},
   "source": [
    "On constate la supériorité écrasante d’Amazon. On constate également qu’un des éditeur a été peut-être réparti entre plusieurs catégories (filiales), assez marginales (n=4). \n",
    "\n",
    "On peut directement tracer les boxplots des évaluations pour ces 9 éditeurs. `publisher` est une variable purement catégorielle, mais on peut très bien ordonner les résultats par notes moyennes croissantes des livres (ici avec un `.groupby()` – autant s’entraîner à utiliser ces méthodes) :"
   ]
  },
  {
   "cell_type": "code",
   "execution_count": 34,
   "id": "9284bbef-2064-4f65-a5aa-118170e8a7a8",
   "metadata": {},
   "outputs": [],
   "source": [
    "# rating_ordered_publishers = df.groupby( … your code …\n",
    "\n",
    "# fig, ax = … your code …"
   ]
  },
  {
   "cell_type": "markdown",
   "id": "d8f9badb-adc6-4fb6-8513-c1f4e03b2b10",
   "metadata": {},
   "source": [
    "On pourrait améliorer ces dataviz en faisant en sorte que d’une figure à l’autre le même code couleur soit respecté.\n",
    "\n",
    "En tout cas, on constate donc que les éditeurs dont les livres reçoivent le plus d’évaluations favorables sont les éditeurs avec un nombre très faible de publications (n=4), ce n’est donc pas représentatif. Hachette group se distingue peut-être en étant, semble-t-il significativement moins bien noté que ses concurents, à vérifier avec des tests statistiques (importantes barres d’erreur).\n",
    "\n",
    "Enfin une autre variable qui peut jouer un rôle est la langue. Encore une fois il y a une forte disparité du nombre de livres publiés dans chaque catégorie de langue.\n",
    "\n",
    "D’abord quelles sont ces langues ?"
   ]
  },
  {
   "cell_type": "code",
   "execution_count": 35,
   "id": "b6beaf5d-bc1f-49f9-90c8-2aadfec07e15",
   "metadata": {},
   "outputs": [],
   "source": [
    "# your code here\n"
   ]
  },
  {
   "cell_type": "markdown",
   "id": "9639610d-b42e-4431-9fc0-afc1d3152a7f",
   "metadata": {},
   "source": [
    "Quantifions et visualisons cela :"
   ]
  },
  {
   "cell_type": "code",
   "execution_count": 36,
   "id": "832a5680-6cfd-4673-acd9-15354b29aa82",
   "metadata": {},
   "outputs": [],
   "source": [
    "# your code here \n"
   ]
  },
  {
   "cell_type": "markdown",
   "id": "6a1aa828-09b7-46fb-87da-8be82d4ab579",
   "metadata": {},
   "source": [
    "L’anglais constitue l’écrasante majorité des ouvrages publiés, la langue n’aura donc qu’un effet marginal sur d’autres variables, d’autant que le nombre de livres dans d’autre langues que l’anglais est dérisoire en valeur absolue. Cela n’a strictement aucun sens de mesurer un effet d’une catégorie ne contenant qu’un ou deux livres.\n",
    "\n",
    "On peut s’intéresser à d’autres éléments pour se construire une meilleure représentation des données et du domaine d’activité :\n",
    "\n",
    "- comparer les chiffre d’affaires des différents éditeurs, auteurs, genre…\n",
    "- le nombre de vente de livres (et pas seulement le nombre de livres pubiés) par les différentes catégories d’auteurs, etc.\n",
    "- etc. à vous de voir !"
   ]
  },
  {
   "cell_type": "markdown",
   "id": "53bf77f6-5a77-475b-9a3e-41edf9cd1e47",
   "metadata": {},
   "source": [
    "Pour avoir une vision d’ensemble des interactions entre variables quantitatives et leurs distributions, on peut faire appelle à la méthode `.pairplot()` :"
   ]
  },
  {
   "cell_type": "code",
   "execution_count": 38,
   "id": "1b7fe9e4-1e63-4eef-a211-76ca0c661b61",
   "metadata": {},
   "outputs": [],
   "source": [
    "# your code here\n"
   ]
  },
  {
   "cell_type": "markdown",
   "id": "230b06d6-5d2f-4553-9123-f8cd95492af6",
   "metadata": {},
   "source": [
    "Néanmoins, ce n’est pas une bonne idée de regarder systématiquement toutes les analyses et de retenir celles qui semblent montrer quelques chose. Idem lorsque l’on croise variable quantitatives et qualitatives. Si cela permet en effet de repérer des patterns et faire émerger des intuitions, notre démarche devrait être justifiée en reposant sur des hypothèses. \n",
    "\n",
    "Par ailleurs, repérer des patterns lorsqu’il y a beaucoup de données et qu’on les confronte de manière systématique n’apporte pas forcément beaucoup de simplicité et de clarté. Dans ce cas procéder pas à pas et regarder en toute conscience chaque variable que l’on met en relation n’est pas inutile, même si plus long. De plus, si on repérerait une relation remarquable, cela ressemblerait à du « cherry picking » (on prend ce qui nous arrange), soutenu par aucune hypothèse, ce qui n’est pas une bonne pratique et ne mène à rien en soi. Néanmoins, il est tout à fait valable d’être surpris par une corrélation qu’on ne soupçonnait pas, et il est tout à fait possible qu’elle nous conduise à des hypothèses fructueuses. Par ailleurs, si on a déjà un certain nombre de poins d’intérêts (on suspecte différentes relations entre variable), on peut gagner du temps en produisant plusieurs visualisation que l’on veut explorer ou tester en une seule ligne de commande. Ce n’est donc pas une option à éliminer, mais on ne peut pas vraiment en faire le cœur de notre méthode de travail.\n",
    "\n",
    "Ici on peut s’intéresser à différentes relations. La colonne `book_ratings_count`semble montrer un certains nombre de tendances :\n",
    "\n",
    "- `book_ratings_count` et `sales_rank` semblent très corrélées (logique ! est-ce bien utile ?)\n",
    "- `book_ratings_count` et `book_average_rating`, on peut comprendre la relation, mais il est intéressant de voir dans quel sens va cette relation\n",
    "- tant qu’à faire, voir la relation entre `book_ratings_count` et `gross_sales` (chiffre d’affaire généré par chaque livre)\n",
    "- d’autant que `gross_sales` et `book_ratings_count` sont très corrélées, \n",
    "- ce qui nous amène aussi à voir le lien avec les `units_sold` : sur le nombre de livres vendus, combien sont notés ?\n",
    "- la ligne `units_sold` semble montrer un phénomène particulier, cette variable mérite d’être regardée de plus près, pour comprendre. La variable `sale_price` est certainement liée à d’autres variables…\n",
    "\n",
    "On peut procéder de même pour les variables catégorielles, ou pour le lien entre variables catégorielles et certaines variables quantitatives.\n",
    "\n",
    "Dans ce corrigé on ne va pas présenter de manière exhaustive toutes ces explorations, nous vous laissons le soin de le faire, si vous ne l’avais déjà fait durant l’exercice.\n",
    "\n",
    "Par exemple, commençon à nous intéresser à cette variable `book_ratings_count`, et notamment comment elle est distribuée déjà, s’il y a des outliers : si on considère cette variable comme une variable explicative, voyons comment elle se comporte.\n"
   ]
  },
  {
   "cell_type": "code",
   "execution_count": 40,
   "id": "20df29ef-4597-43be-b14c-8277ee5712b5",
   "metadata": {},
   "outputs": [],
   "source": [
    "# your code here : distribution\n"
   ]
  },
  {
   "cell_type": "markdown",
   "id": "601c0b50-1538-4d02-9dda-b9e36bbc8fa6",
   "metadata": {},
   "source": [
    "La distribution semble légérement dissymétrique, avec une certaine skewness pour les hautes valeurs : certains livres sont beaucoup notés (certainement les best-sellers, la relation n’est pas linéaire, certains ouvrages raflent tout). "
   ]
  },
  {
   "cell_type": "code",
   "execution_count": 41,
   "id": "1f2d9f81-8ec9-413b-9c47-6cee6760c3b6",
   "metadata": {},
   "outputs": [],
   "source": [
    "# your code here : book_ratings_count statistics"
   ]
  },
  {
   "cell_type": "markdown",
   "id": "d88eae43-b415-42e1-a5b4-defef4721924",
   "metadata": {},
   "source": [
    "On a un rapport de 1 à 10 entre le livre le moins noté (27000) et le livre le plus noté (200000). La moyenne étant un peu en dessous de 100000."
   ]
  },
  {
   "cell_type": "code",
   "execution_count": 44,
   "id": "2bef26c4-c20f-43c4-93e0-bd96b6fff320",
   "metadata": {},
   "outputs": [],
   "source": [
    "# your code here : show if book_ratings_count has outliers\n"
   ]
  },
  {
   "cell_type": "markdown",
   "id": "7a319ff3-be25-4a31-96a1-0f8d8036d26a",
   "metadata": {},
   "source": [
    "On constate que les valeurs exceptionnelles concernent les ouvrages qui sont beaucoup plus notés que les autres, comme on avait commencé à le suspecter avec la forme dissymétrique de la distribution. En utilisant une fonction IQR on pourrait les isoler et voir en détail à quoi ils correspondent. (à faire en question bonus)\n",
    "\n",
    "Pour le moment, intéressons-nous à la relation entre `book_ratings_count` et `book_average_rating`"
   ]
  },
  {
   "cell_type": "code",
   "execution_count": 48,
   "id": "b3aa6b9d-1d3c-42a4-abca-511ece8557b6",
   "metadata": {},
   "outputs": [],
   "source": [
    "# your code here : regplot\n"
   ]
  },
  {
   "cell_type": "markdown",
   "id": "f8fadb9f-e373-4dec-b5f1-44a2917468a2",
   "metadata": {},
   "source": [
    "Qu’obervez vous ? Qu’en pensez vous ? (éditez la cellule pour répondre)\n",
    "\n",
    "Voyons la relation entre chiffre d’affaire et nombre de livres notés :"
   ]
  },
  {
   "cell_type": "code",
   "execution_count": 49,
   "id": "75cf4290-28c4-4202-b2e6-9baf0aa02b08",
   "metadata": {},
   "outputs": [],
   "source": [
    "# your code here\n"
   ]
  },
  {
   "cell_type": "markdown",
   "id": "39f7a97b-98fe-4f13-8c61-74841f7675ba",
   "metadata": {},
   "source": [
    "Qu’obervez vous ? Qu’en pensez vous ? (éditez la cellule pour répondre)\n",
    "\n",
    "Voyons plutôt la tendance entre note moyenne et chiffre d’affaire : "
   ]
  },
  {
   "cell_type": "code",
   "execution_count": 50,
   "id": "165a5d96-31d1-424d-ad72-eff82735b78c",
   "metadata": {},
   "outputs": [],
   "source": [
    "# your code here\n"
   ]
  },
  {
   "cell_type": "markdown",
   "id": "a567cc6a-c6f6-4e89-808e-660f0306a119",
   "metadata": {},
   "source": [
    "Qu’obervez vous ? Qu’en pensez vous ? (éditez la cellule pour répondre)\n",
    "\n",
    "Intéressons nous à la distribution du nombre de livre vendu : "
   ]
  },
  {
   "cell_type": "code",
   "execution_count": 51,
   "id": "46035eac-9bf1-401a-b7dd-a43c3d90880d",
   "metadata": {},
   "outputs": [],
   "source": [
    "# your code here\n"
   ]
  },
  {
   "cell_type": "markdown",
   "id": "cd39495f-4c14-4a5d-bc62-ec3657fb2e13",
   "metadata": {},
   "source": [
    "Qu’est-ce qui est frappant dans cette distribution ? (éditez la cellule pour répondre)\n",
    "\n",
    "On pourra donc chercher à catégoriser les livres entre : grosses ventes / petites ventes par exemple.\n",
    "\n",
    "Il y a visiblement d’autres variables qui peuvent être traitées de la sorte : on peut éliminer les livres publiés avant une certaine date, on peut regrouper des éditeurs entre eux (sur la base d’hypothèses !), etc. dans l’objectif de créer de nouvelles variables, plus simples (ou plus complexes), qui synthétisent certaines de nos hypothèses ou parti-pris. Cela est aussi une étape de la préparation des données.\n",
    "\n",
    "Mais avant de créer des modèles pour prédire des observables à partir des autres caractéristiques (des livres), essayez déjà d’isoler les variables qui, selon vous, sont a retenir pour expliquer soit le nombre de livres vendus (`units_sold`), soit le chiffres d’affaire qu’ils génèrent (`gross_sales`), et quelles sont les variables qui n’ont pas leur place dans le modèle.\n",
    "\n",
    "Nous vérifierons vos choix dans le prochain cours où nous aborderons enfin les modèles de régression."
   ]
  },
  {
   "cell_type": "code",
   "execution_count": 52,
   "id": "994e5807-10b9-4153-bff8-82d0bba37de7",
   "metadata": {},
   "outputs": [],
   "source": [
    "# à vous de jouer"
   ]
  },
  {
   "cell_type": "code",
   "execution_count": null,
   "id": "49538658-856d-46d1-9484-fe7031f0a738",
   "metadata": {},
   "outputs": [],
   "source": []
  }
 ],
 "metadata": {
  "kernelspec": {
   "display_name": "Python 3 (ipykernel)",
   "language": "python",
   "name": "python3"
  },
  "language_info": {
   "codemirror_mode": {
    "name": "ipython",
    "version": 3
   },
   "file_extension": ".py",
   "mimetype": "text/x-python",
   "name": "python",
   "nbconvert_exporter": "python",
   "pygments_lexer": "ipython3",
   "version": "3.11.2"
  }
 },
 "nbformat": 4,
 "nbformat_minor": 5
}
